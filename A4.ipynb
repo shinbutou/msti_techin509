{
 "cells": [
  {
   "cell_type": "markdown",
   "id": "be18f54c-df26-44e9-9e65-f20194021aa2",
   "metadata": {},
   "source": [
    "# [TECHIN509] Week 4: Lab Submission\n",
    "\n",
    "* Author: Cheng-Hsi (Ian) Yang\n",
    "* Student ID: 2220015\n",
    "* Email: ianyang@uw.edu"
   ]
  },
  {
   "cell_type": "markdown",
   "id": "c2db0a7c-8c67-4405-b889-0b3b0ce2e6c4",
   "metadata": {},
   "source": [
    "For this lab, please submit the following 2 links:\n",
    "* The link to the GitHub repository you created, which has a pull request from your friend.\n",
    "* The link to the GitHub repository your friend created to which you made a pull request.<br>\n",
    "\n",
    "Here are the detailed steps for the above:\n",
    "\n",
    "1. For the code itself, please implement the flood fill function, which builds on the concepts of functions and recursions discussed in Week 3. The starter code for the same can be found [here](https://github.com/GIXLabs/TechFoundations/blob/main/week4/flood_fill_starter.py).\n",
    "2. After finishing the above code, you would have to create a new GitHub repository and push the above code to the remote repository. \n",
    "3. After the repo is created and has the code,\n",
    "    1. Fork your friend's repository and clone this to your local computer. \n",
    "    2. Make changes to this code. You can do one or more of the following changes:\n",
    "    3. As there is a default test case on line 3 of [the starter code](https://github.com/GIXLabs/TechFoundations/blob/main/week4/flood_fill_starter.py), add additional boards for the code to run on.\n",
    "    4. If there is a bug in your friend's code, fix it.\n",
    "    5. Add docstrings to the functions if they don't exist.\n",
    "    6. Add assert statements to ensure the input is in the right format. (Ex. Ensure all the rows of the input board are of the same lengths through assert statements.)  \n",
    "4. After the above changes are made to the local computer, push this change to the remote, and make a pull request on GitHub to your friend's repository. Add a review message describing the change you made and why your friend should accept your pull request. \n",
    "5. Have your friend do the same steps (3 & 4) to your repository. \n",
    "6. Submit both the links (your repo to which your friend made a pull request, and the repo of the pull request you made).   "
   ]
  },
  {
   "cell_type": "code",
   "execution_count": 69,
   "id": "34e89720-a04d-43d9-92ee-d89d96315be9",
   "metadata": {},
   "outputs": [],
   "source": [
    "from typing import List\n",
    "\n",
    "data = [\n",
    "    \"......................\",\n",
    "    \"......##########......\",\n",
    "    \"......#........#......\",\n",
    "    \"......#........#......\",\n",
    "    \"......#........#####..\",\n",
    "    \"....###............#..\",\n",
    "    \"....#............###..\",\n",
    "    \"....##############....\",\n",
    "]\n",
     "\n",
    "data2 = [\n",
    "    \"......................\",\n",
    "    \"......##########......\",\n",
    "    \"......#........#......\",\n",
    "    \"......#........#......\",\n",
    "    \"......#........#####..\",\n",
    "    \"....###........#####..\",\n",
    "    \"....###........#####..\",\n",
    "    \"....##############....\",\n",
    "]\n",
    "\n",
    "\n",
    "def flood_fill(board: List[str], old: str, new: str, row: int, col: int) -> List[str]:\n",
    "    try: # test if the starting point is out of bound\n",
    "        assert row >= 0 and row <= 7\n",
    "        assert col >= 0 and col <= 21\n",
    "    except AssertionError:\n",
    "        print(\"The starting point is out of bound.\")\n",
    "        return board\n",
    "    \n",
    "    cursor = board[row][col]\n",
    "    \n",
    "    try: # test if the starting point is an invalid point\n",
    "        assert cursor != '#'\n",
    "    except AssertionError:\n",
    "        return board\n",
    "    \n",
    "    try: # test if the starting point is already changed\n",
    "        assert cursor != '~'\n",
    "    except AssertionError:\n",
    "        return board\n",
    "        \n",
    "    if cursor == old:\n",
    "        board[row] = board[row][:col] + new + board[row][col+1:]\n",
    "\n",
    "    flood_fill(board=board, old='.', new='~', row=row-1, col=col)\n",
    "    flood_fill(board=board, old='.', new='~', row=row+1, col=col)\n",
    "    flood_fill(board=board, old='.', new='~', row=row, col=col-1)\n",
    "    flood_fill(board=board, old='.', new='~', row=row, col=col+1)\n",
    "    \n",
    "    return board"
   ]
  },
  {
   "cell_type": "code",
   "execution_count": 70,
   "id": "046de3fa-07fc-47da-8ec2-f41996ce5e89",
   "metadata": {},
   "outputs": [
    {
     "name": "stdout",
     "output_type": "stream",
     "text": [
      "......................\n",
      "......##########......\n",
      "......#~~~~~~~~#......\n",
      "......#~~~~~~~~#......\n",
      "......#~~~~~~~~#####..\n",
      "....###~~~~~~~~~~~~#..\n",
      "....#~~~~~~~~~~~~###..\n",
      "....##############....\n"
     ]
    }
   ],
   "source": [
    "modified_board = flood_fill(board=data, old='.', new='~', row=5, col=12)\n",
    "\n",
    "for line in modified_board:\n",
    "    print(line)\n",
    "\n",
    "# Expected output:\n",
    "# ......................\n",
    "# ......##########......\n",
    "# ......#~~~~~~~~#......\n",
    "# ......#~~~~~~~~#......\n",
    "# ......#~~~~~~~~#####..\n",
    "# ....###~~~~~~~~~~~~#..\n",
    "# ....#~~~~~~~~~~~~###..\n",
    "# ....##############...."
   ]
  }
 ],
 "metadata": {
  "kernelspec": {
   "display_name": "Python 3",
   "language": "python",
   "name": "python3"
  },
  "language_info": {
   "codemirror_mode": {
    "name": "ipython",
    "version": 3
   },
   "file_extension": ".py",
   "mimetype": "text/x-python",
   "name": "python",
   "nbconvert_exporter": "python",
   "pygments_lexer": "ipython3",
   "version": "3.8.8"
  }
 },
 "nbformat": 4,
 "nbformat_minor": 5
}
